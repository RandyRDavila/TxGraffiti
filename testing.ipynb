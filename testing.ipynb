{
 "cells": [
  {
   "cell_type": "code",
   "execution_count": null,
   "metadata": {},
   "outputs": [],
   "source": [
    "from TxGraffiti.classes.conjecture_class import LinearConjecture, LinearConclusion, Hypothesis\n",
    "from TxGraffiti.functions.make_inequalities import filter_known_conjectures, write_on_the_wall\n",
    "import pandas as pd\n",
    "import pickle\n",
    "\n",
    "\n",
    "\n",
    "# Known graph theory conjectures\n",
    "known_conjectures = {\n",
    "    \"conj1\" : LinearConjecture(Hypothesis(\"a connected graph\"), LinearConclusion(\"size\", \"<=\", 1, \"order\", -1)),\n",
    "    \"conj2\" :LinearConjecture(Hypothesis(\"a connected graph\"), LinearConclusion(\"domination_number\", \"<=\", 1/2, \"order\", 0)),\n",
    "    \"conj3\" :LinearConjecture(Hypothesis(\"a connected graph\"), LinearConclusion(\"independence_number\", \"<=\", 1, \"annihilation_number\", 0)),\n",
    "    \"conj4\" :LinearConjecture(Hypothesis(\"a connected graph\"), LinearConclusion(\"independence_number\", \">=\", 1, \"residue\", 0)),\n",
    "    \"conj5\" :LinearConjecture(Hypothesis(\"a connected graph\"), LinearConclusion(\"independence_number\", \"<=\", 1, \"(order - matching_number)\", 0)),\n",
    "    \"conj6\" :LinearConjecture(Hypothesis(\"a connected and bipartite graph\"), LinearConclusion(\"independence_number\", \">=\", 1, \"(order - matching_number)\", 0)),\n",
    "    \"conj7\" :LinearConjecture(Hypothesis(\"a connected and regular graph\"), LinearConclusion(\"independence_number\", \"<=\", 1, \"matching_number\", 0)),\n",
    "    \"conj8\" :LinearConjecture(Hypothesis(\"a connected and regular graph\"), LinearConclusion(\"independence_number\", \">=\", 1, \"order\", -1)),\n",
    "}\n",
    "# Save the objects to a pickle file\n",
    "with open('math_data/data/known_conjectures.pkl', 'wb') as f:\n",
    "    pickle.dump(known_conjectures, f)"
   ]
  },
  {
   "cell_type": "code",
   "execution_count": null,
   "metadata": {},
   "outputs": [],
   "source": [
    "# Load the objects from a pickle file\n",
    "with open('math_data/data/known_conjectures.pkl', 'rb') as f:\n",
    "    loaded_conjectures = pickle.load(f)\n",
    "\n",
    "list(loaded_conjectures.values())"
   ]
  },
  {
   "cell_type": "code",
   "execution_count": null,
   "metadata": {},
   "outputs": [],
   "source": [
    "# Read the csv file into a dataframe.\n",
    "df = pd.read_csv(f\"math_data/data/graphs.csv\")\n",
    "\n",
    "# Gather all of the numerical columns in the dataframe.\n",
    "numerical_columns = [column for column in df.columns if df[column].dtype == \"float64\" or df[column].dtype == \"int64\"]\n",
    "\n",
    "# Gather all of the boolean columns in the dataframe.\n",
    "boolean_columns = [column for column in df.columns if df[column].dtype == \"bool\"]\n",
    "conjectures = write_on_the_wall(df, [\"independence_number\"], numerical_columns, boolean_columns)\n",
    "for i, conj in enumerate(conjectures):\n",
    "    print(f\"Conjecture {i}: {conj} \\n\")"
   ]
  },
  {
   "cell_type": "code",
   "execution_count": null,
   "metadata": {},
   "outputs": [],
   "source": [
    "for i, conj in enumerate(conjectures):\n",
    "    print(f\"Conjecture {i}: {conj} \\n\")"
   ]
  },
  {
   "cell_type": "code",
   "execution_count": null,
   "metadata": {},
   "outputs": [],
   "source": [
    "new_conjectures = [conj for conj in conjectures if conj not in known_conjectures]\n",
    "for i, conj in enumerate(new_conjectures):\n",
    "    print(f\"Conjecture {i}: {conj} \\n\")"
   ]
  },
  {
   "cell_type": "code",
   "execution_count": null,
   "metadata": {},
   "outputs": [],
   "source": [
    "conjectures[0] == conjectures[1]"
   ]
  },
  {
   "cell_type": "code",
   "execution_count": null,
   "metadata": {},
   "outputs": [],
   "source": []
  }
 ],
 "metadata": {
  "kernelspec": {
   "display_name": ".venv",
   "language": "python",
   "name": "python3"
  },
  "language_info": {
   "codemirror_mode": {
    "name": "ipython",
    "version": 3
   },
   "file_extension": ".py",
   "mimetype": "text/x-python",
   "name": "python",
   "nbconvert_exporter": "python",
   "pygments_lexer": "ipython3",
   "version": "3.9.6"
  },
  "orig_nbformat": 4
 },
 "nbformat": 4,
 "nbformat_minor": 2
}
